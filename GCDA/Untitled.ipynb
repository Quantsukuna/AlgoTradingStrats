{
 "cells": [
  {
   "cell_type": "code",
   "execution_count": 1,
   "id": "1d924a49",
   "metadata": {},
   "outputs": [
    {
     "ename": "SyntaxError",
     "evalue": "invalid syntax (<ipython-input-1-18793517f79d>, line 8)",
     "output_type": "error",
     "traceback": [
      "\u001b[1;36m  File \u001b[1;32m\"<ipython-input-1-18793517f79d>\"\u001b[1;36m, line \u001b[1;32m8\u001b[0m\n\u001b[1;33m    lambda = NULL,\u001b[0m\n\u001b[1;37m           ^\u001b[0m\n\u001b[1;31mSyntaxError\u001b[0m\u001b[1;31m:\u001b[0m invalid syntax\n"
     ]
    }
   ],
   "source": [
    "nnetar(\n",
    "  y,\n",
    "  p,\n",
    "  P = 1,\n",
    "  size,\n",
    "  repeats = 20,\n",
    "  xreg = NULL,\n",
    "  lambda = NULL,\n",
    "  model = NULL,\n",
    "  subset = NULL,\n",
    "  scale.inputs = TRUE,\n",
    "  x = y,\n",
    "  ...\n",
    ")"
   ]
  },
  {
   "cell_type": "code",
   "execution_count": null,
   "id": "e16503d0",
   "metadata": {},
   "outputs": [],
   "source": []
  }
 ],
 "metadata": {
  "kernelspec": {
   "display_name": "Python 3",
   "language": "python",
   "name": "python3"
  },
  "language_info": {
   "codemirror_mode": {
    "name": "ipython",
    "version": 3
   },
   "file_extension": ".py",
   "mimetype": "text/x-python",
   "name": "python",
   "nbconvert_exporter": "python",
   "pygments_lexer": "ipython3",
   "version": "3.8.8"
  }
 },
 "nbformat": 4,
 "nbformat_minor": 5
}
